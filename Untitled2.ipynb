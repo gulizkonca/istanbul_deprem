{
 "cells": [
  {
   "cell_type": "code",
   "execution_count": null,
   "id": "bed3d221-6d3b-4244-89b7-f676e4d84725",
   "metadata": {},
   "outputs": [],
   "source": []
  }
 ],
 "metadata": {
  "kernelspec": {
   "display_name": "",
   "name": ""
  },
  "language_info": {
   "name": ""
  }
 },
 "nbformat": 4,
 "nbformat_minor": 5
}
